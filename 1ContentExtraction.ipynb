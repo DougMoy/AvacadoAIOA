{
 "cells": [
  {
   "cell_type": "code",
   "execution_count": 3,
   "metadata": {},
   "outputs": [],
   "source": [
    "import requests\n",
    "from bs4 import BeautifulSoup\n",
    "import pandas as pd\n",
    "\n",
    "urls = [\n",
    "    \"https://flo.health/menstrual-cycle/health/period/diy-menstrual-pads\",\n",
    "    \"https://flo.health/menstrual-cycle/health/period/stress-and-period\",\n",
    "    \"https://flo.health/menstrual-cycle/lifestyle/diet-and-nutrition/foods-to-eat-on-period\",\n",
    "    \"https://flo.health/menstrual-cycle/menopause/symptoms/menopause-burning-sensation\",\n",
    "    \"https://flo.health/menstrual-cycle/menopause/symptoms/perimenopause-periods-closer-together\"\n",
    "]\n",
    "\n",
    "data = []\n",
    "\n",
    "for url in urls:\n",
    "    response = requests.get(url)\n",
    "    response.raise_for_status()\n",
    "    soup = BeautifulSoup(response.text, \"html.parser\")\n",
    "    titleElement = soup.find(\"h1\", class_=\"flo-article-banner__title\")\n",
    "    title = titleElement.get_text(strip=True) if titleElement else \"Title not found\"\n",
    "    \n",
    "    publishedDate = \"Published date not found\"\n",
    "    updatedDate = \"Updated date not found\"\n",
    "    dateElements = soup.find_all(\"div\", class_=\"flo-article-banner-bottom__info-panel-date--item\")\n",
    "\n",
    "    for element in dateElements:\n",
    "        elementText = element.get_text()\n",
    "\n",
    "        if \"Published\" in elementText:\n",
    "            dateSpan = element.find(\"span\")\n",
    "            if dateSpan:\n",
    "                publishedDate = dateSpan.get_text(strip=True)\n",
    "\n",
    "        if \"Updated\" in elementText:\n",
    "            dateSpan = element.find(\"span\")\n",
    "            if dateSpan:\n",
    "                updatedDate = dateSpan.get_text(strip=True)\n",
    "\n",
    "    sections = soup.find_all(\"section\", class_=\"flo-article-text\")\n",
    "    allText = []\n",
    "\n",
    "    for section in sections:\n",
    "        sectionText = section.get_text(separator=\"\\n\", strip=True)\n",
    "        allText.append(sectionText)\n",
    "\n",
    "    finalText = \"\\n\\n\".join(allText)\n",
    "    \n",
    "    data.append([url, title, publishedDate, updatedDate, finalText])\n",
    "\n",
    "df = pd.DataFrame(data, columns=[\"URL\", \"Title\", \"Published Date\", \"Updated Date\", \"Content\"])\n",
    "\n",
    "df.to_csv(\"articleData.csv\", index=False)\n",
    "\n"
   ]
  }
 ],
 "metadata": {
  "kernelspec": {
   "display_name": "Python 3",
   "language": "python",
   "name": "python3"
  },
  "language_info": {
   "codemirror_mode": {
    "name": "ipython",
    "version": 3
   },
   "file_extension": ".py",
   "mimetype": "text/x-python",
   "name": "python",
   "nbconvert_exporter": "python",
   "pygments_lexer": "ipython3",
   "version": "3.12.1"
  }
 },
 "nbformat": 4,
 "nbformat_minor": 2
}
